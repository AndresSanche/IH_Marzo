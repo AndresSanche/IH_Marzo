{
 "cells": [
  {
   "cell_type": "markdown",
   "id": "63d35b7d",
   "metadata": {},
   "source": [
    "# 4.02 Activity 1\n",
    "\n",
    "Keep working with `unit4.csv` that you already have locally - the same dataset you used in the previous lesson. (_We didn't add the file once again within this activity folder, since it is a large file that would consume unnecessary space on your drive._)\n",
    "\n",
    "Discuss which option is better to clean the rows where the values are empty for the column `DOMAIN`.\n",
    "\n",
    "- Option 1: Filtering the rows with the empty values.\n",
    "- Option 2: Replacing the empty values with some other category, the most frequently represented value in that column."
   ]
  },
  {
   "cell_type": "code",
   "execution_count": 1,
   "id": "2617faa3",
   "metadata": {},
   "outputs": [],
   "source": [
    "import numpy as np\n",
    "import pandas as pd\n",
    "import seaborn as sns\n",
    "import matplotlib.pyplot as plt\n",
    "pd.set_option('display.max_columns', None)"
   ]
  },
  {
   "cell_type": "code",
   "execution_count": 2,
   "id": "e55b2c29",
   "metadata": {},
   "outputs": [],
   "source": [
    "data = pd.read_csv('unit4.txt')"
   ]
  },
  {
   "cell_type": "code",
   "execution_count": 3,
   "id": "4e312483",
   "metadata": {},
   "outputs": [
    {
     "data": {
      "text/plain": [
       "R2    13006\n",
       "T2    11717\n",
       "S1    10866\n",
       "S2     8054\n",
       "C2     7834\n",
       "C1     5793\n",
       "C3     5056\n",
       "T1     4712\n",
       "R3     4572\n",
       "U1     4259\n",
       "U2     3111\n",
       "U3     2484\n",
       "T3     2092\n",
       "S3     1817\n",
       "U4     1735\n",
       "R1     1285\n",
       "Name: DOMAIN, dtype: int64"
      ]
     },
     "execution_count": 3,
     "metadata": {},
     "output_type": "execute_result"
    }
   ],
   "source": [
    "data['DOMAIN'].value_counts()"
   ]
  },
  {
   "cell_type": "code",
   "execution_count": 4,
   "id": "11c553ca",
   "metadata": {},
   "outputs": [
    {
     "data": {
      "text/plain": [
       "2176"
      ]
     },
     "execution_count": 4,
     "metadata": {},
     "output_type": "execute_result"
    }
   ],
   "source": [
    "data['DOMAIN'].isnull().sum()"
   ]
  },
  {
   "cell_type": "code",
   "execution_count": 5,
   "id": "7f85f55e",
   "metadata": {},
   "outputs": [
    {
     "data": {
      "text/plain": [
       "0.024025880820148175"
      ]
     },
     "execution_count": 5,
     "metadata": {},
     "output_type": "execute_result"
    }
   ],
   "source": [
    "data['DOMAIN'].isnull().sum()/len(data['DOMAIN'])"
   ]
  },
  {
   "cell_type": "markdown",
   "id": "f7808804",
   "metadata": {},
   "source": [
    "Se decido la opcion 1 que es filtrar las filas que tengan valor NaN"
   ]
  },
  {
   "cell_type": "markdown",
   "id": "fdb4cc5f",
   "metadata": {},
   "source": [
    "# 4.02 Activity 2\n",
    "\n",
    "```python\n",
    "# Cleaning column GENDER\n",
    "# this is presented in the previous example on the class\n",
    "\n",
    "data['GENDER'].value_counts()\n",
    "def clean_gender_col(x):\n",
    "    if x in ['',' ' ,'U', 'C', 'J', 'A']:\n",
    "        return 'other'\n",
    "    else:\n",
    "        return x\n",
    "\n",
    "data['GENDER'] = list(map(clean_gender_col, data['GENDER']))\n",
    "```\n",
    "\n",
    "<br>\n",
    "\n",
    "There is a more efficient way to use `map` over pandas dataframes, and it is called [apply](https://pandas.pydata.org/pandas-docs/stable/reference/api/pandas.DataFrame.apply.html).\n",
    "\n",
    "- Use it instead of the `map` for applying the previous function to the same data.\n",
    "- Do the same using the equivalent lambda function."
   ]
  },
  {
   "cell_type": "code",
   "execution_count": 6,
   "id": "e5cd8e30",
   "metadata": {},
   "outputs": [],
   "source": [
    "def clean_gender_col(x):\n",
    "    if x in ['',' ' ,'U', 'C', 'J', 'A']:\n",
    "        return 'other'\n",
    "    else:\n",
    "        return x"
   ]
  },
  {
   "cell_type": "code",
   "execution_count": 7,
   "id": "6ab2d456",
   "metadata": {},
   "outputs": [],
   "source": [
    "#data['GENDER'] = data['GENDER'].apply(lambda x: )"
   ]
  },
  {
   "cell_type": "code",
   "execution_count": 8,
   "id": "8d6f2d5d",
   "metadata": {},
   "outputs": [
    {
     "data": {
      "text/plain": [
       "F        48668\n",
       "M        37132\n",
       "other     1974\n",
       "Name: GENDER, dtype: int64"
      ]
     },
     "execution_count": 8,
     "metadata": {},
     "output_type": "execute_result"
    }
   ],
   "source": [
    "data['GENDER'] = data['GENDER'].apply(lambda x: 'other' if x in ['',' ' ,'U', 'C', 'J', 'A'] else x)\n",
    "data['GENDER'].value_counts()"
   ]
  },
  {
   "cell_type": "markdown",
   "id": "e307d2a6",
   "metadata": {},
   "source": [
    "# 4.02 Activity 3\n",
    "\n",
    "Use the column `MDMAUD` to reduce the number of categories to two (`XXXX` and other)."
   ]
  },
  {
   "cell_type": "code",
   "execution_count": 9,
   "id": "7bd50a76",
   "metadata": {},
   "outputs": [
    {
     "data": {
      "text/plain": [
       "XXXX    90290\n",
       "C1CM       59\n",
       "L1CM       44\n",
       "I1CM       34\n",
       "D2CM       27\n",
       "C2CM       23\n",
       "D1CM       19\n",
       "L2CM       14\n",
       "C1LM        8\n",
       "L1LM        8\n",
       "I2CM        7\n",
       "D5CM        5\n",
       "D5MM        5\n",
       "D2MM        4\n",
       "I1LM        3\n",
       "D5TM        3\n",
       "C2MM        3\n",
       "C5CM        3\n",
       "C2LM        2\n",
       "C1MM        1\n",
       "I2MM        1\n",
       "I5CM        1\n",
       "I5MM        1\n",
       "C5MM        1\n",
       "L1MM        1\n",
       "C5TM        1\n",
       "L2TM        1\n",
       "Name: MDMAUD, dtype: int64"
      ]
     },
     "execution_count": 9,
     "metadata": {},
     "output_type": "execute_result"
    }
   ],
   "source": [
    "data['MDMAUD'].value_counts()"
   ]
  },
  {
   "cell_type": "code",
   "execution_count": null,
   "id": "ed96aab4",
   "metadata": {},
   "outputs": [],
   "source": []
  },
  {
   "cell_type": "code",
   "execution_count": 10,
   "id": "6e63674e",
   "metadata": {},
   "outputs": [
    {
     "data": {
      "text/html": [
       "<div>\n",
       "<style scoped>\n",
       "    .dataframe tbody tr th:only-of-type {\n",
       "        vertical-align: middle;\n",
       "    }\n",
       "\n",
       "    .dataframe tbody tr th {\n",
       "        vertical-align: top;\n",
       "    }\n",
       "\n",
       "    .dataframe thead th {\n",
       "        text-align: right;\n",
       "    }\n",
       "</style>\n",
       "<table border=\"1\" class=\"dataframe\">\n",
       "  <thead>\n",
       "    <tr style=\"text-align: right;\">\n",
       "      <th></th>\n",
       "      <th>index</th>\n",
       "      <th>MDMAUD</th>\n",
       "    </tr>\n",
       "  </thead>\n",
       "  <tbody>\n",
       "    <tr>\n",
       "      <th>0</th>\n",
       "      <td>XXXX</td>\n",
       "      <td>90290</td>\n",
       "    </tr>\n",
       "    <tr>\n",
       "      <th>1</th>\n",
       "      <td>C1CM</td>\n",
       "      <td>59</td>\n",
       "    </tr>\n",
       "    <tr>\n",
       "      <th>2</th>\n",
       "      <td>L1CM</td>\n",
       "      <td>44</td>\n",
       "    </tr>\n",
       "    <tr>\n",
       "      <th>3</th>\n",
       "      <td>I1CM</td>\n",
       "      <td>34</td>\n",
       "    </tr>\n",
       "    <tr>\n",
       "      <th>4</th>\n",
       "      <td>D2CM</td>\n",
       "      <td>27</td>\n",
       "    </tr>\n",
       "    <tr>\n",
       "      <th>5</th>\n",
       "      <td>C2CM</td>\n",
       "      <td>23</td>\n",
       "    </tr>\n",
       "    <tr>\n",
       "      <th>6</th>\n",
       "      <td>D1CM</td>\n",
       "      <td>19</td>\n",
       "    </tr>\n",
       "    <tr>\n",
       "      <th>7</th>\n",
       "      <td>L2CM</td>\n",
       "      <td>14</td>\n",
       "    </tr>\n",
       "    <tr>\n",
       "      <th>8</th>\n",
       "      <td>C1LM</td>\n",
       "      <td>8</td>\n",
       "    </tr>\n",
       "    <tr>\n",
       "      <th>9</th>\n",
       "      <td>L1LM</td>\n",
       "      <td>8</td>\n",
       "    </tr>\n",
       "    <tr>\n",
       "      <th>10</th>\n",
       "      <td>I2CM</td>\n",
       "      <td>7</td>\n",
       "    </tr>\n",
       "    <tr>\n",
       "      <th>11</th>\n",
       "      <td>D5CM</td>\n",
       "      <td>5</td>\n",
       "    </tr>\n",
       "    <tr>\n",
       "      <th>12</th>\n",
       "      <td>D5MM</td>\n",
       "      <td>5</td>\n",
       "    </tr>\n",
       "    <tr>\n",
       "      <th>13</th>\n",
       "      <td>D2MM</td>\n",
       "      <td>4</td>\n",
       "    </tr>\n",
       "    <tr>\n",
       "      <th>14</th>\n",
       "      <td>I1LM</td>\n",
       "      <td>3</td>\n",
       "    </tr>\n",
       "    <tr>\n",
       "      <th>15</th>\n",
       "      <td>D5TM</td>\n",
       "      <td>3</td>\n",
       "    </tr>\n",
       "    <tr>\n",
       "      <th>16</th>\n",
       "      <td>C2MM</td>\n",
       "      <td>3</td>\n",
       "    </tr>\n",
       "    <tr>\n",
       "      <th>17</th>\n",
       "      <td>C5CM</td>\n",
       "      <td>3</td>\n",
       "    </tr>\n",
       "    <tr>\n",
       "      <th>18</th>\n",
       "      <td>C2LM</td>\n",
       "      <td>2</td>\n",
       "    </tr>\n",
       "    <tr>\n",
       "      <th>19</th>\n",
       "      <td>C1MM</td>\n",
       "      <td>1</td>\n",
       "    </tr>\n",
       "    <tr>\n",
       "      <th>20</th>\n",
       "      <td>I2MM</td>\n",
       "      <td>1</td>\n",
       "    </tr>\n",
       "    <tr>\n",
       "      <th>21</th>\n",
       "      <td>I5CM</td>\n",
       "      <td>1</td>\n",
       "    </tr>\n",
       "    <tr>\n",
       "      <th>22</th>\n",
       "      <td>I5MM</td>\n",
       "      <td>1</td>\n",
       "    </tr>\n",
       "    <tr>\n",
       "      <th>23</th>\n",
       "      <td>C5MM</td>\n",
       "      <td>1</td>\n",
       "    </tr>\n",
       "    <tr>\n",
       "      <th>24</th>\n",
       "      <td>L1MM</td>\n",
       "      <td>1</td>\n",
       "    </tr>\n",
       "    <tr>\n",
       "      <th>25</th>\n",
       "      <td>C5TM</td>\n",
       "      <td>1</td>\n",
       "    </tr>\n",
       "    <tr>\n",
       "      <th>26</th>\n",
       "      <td>L2TM</td>\n",
       "      <td>1</td>\n",
       "    </tr>\n",
       "  </tbody>\n",
       "</table>\n",
       "</div>"
      ],
      "text/plain": [
       "   index  MDMAUD\n",
       "0   XXXX   90290\n",
       "1   C1CM      59\n",
       "2   L1CM      44\n",
       "3   I1CM      34\n",
       "4   D2CM      27\n",
       "5   C2CM      23\n",
       "6   D1CM      19\n",
       "7   L2CM      14\n",
       "8   C1LM       8\n",
       "9   L1LM       8\n",
       "10  I2CM       7\n",
       "11  D5CM       5\n",
       "12  D5MM       5\n",
       "13  D2MM       4\n",
       "14  I1LM       3\n",
       "15  D5TM       3\n",
       "16  C2MM       3\n",
       "17  C5CM       3\n",
       "18  C2LM       2\n",
       "19  C1MM       1\n",
       "20  I2MM       1\n",
       "21  I5CM       1\n",
       "22  I5MM       1\n",
       "23  C5MM       1\n",
       "24  L1MM       1\n",
       "25  C5TM       1\n",
       "26  L2TM       1"
      ]
     },
     "execution_count": 10,
     "metadata": {},
     "output_type": "execute_result"
    }
   ],
   "source": [
    "vals=pd.DataFrame(data[\"MDMAUD\"].value_counts())\n",
    "vals=vals.reset_index()\n",
    "vals"
   ]
  },
  {
   "cell_type": "code",
   "execution_count": 11,
   "id": "2ab0b724",
   "metadata": {},
   "outputs": [
    {
     "data": {
      "text/html": [
       "<div>\n",
       "<style scoped>\n",
       "    .dataframe tbody tr th:only-of-type {\n",
       "        vertical-align: middle;\n",
       "    }\n",
       "\n",
       "    .dataframe tbody tr th {\n",
       "        vertical-align: top;\n",
       "    }\n",
       "\n",
       "    .dataframe thead th {\n",
       "        text-align: right;\n",
       "    }\n",
       "</style>\n",
       "<table border=\"1\" class=\"dataframe\">\n",
       "  <thead>\n",
       "    <tr style=\"text-align: right;\">\n",
       "      <th></th>\n",
       "      <th>category</th>\n",
       "      <th>counts</th>\n",
       "    </tr>\n",
       "  </thead>\n",
       "  <tbody>\n",
       "    <tr>\n",
       "      <th>0</th>\n",
       "      <td>XXXX</td>\n",
       "      <td>90290</td>\n",
       "    </tr>\n",
       "    <tr>\n",
       "      <th>1</th>\n",
       "      <td>C1CM</td>\n",
       "      <td>59</td>\n",
       "    </tr>\n",
       "    <tr>\n",
       "      <th>2</th>\n",
       "      <td>L1CM</td>\n",
       "      <td>44</td>\n",
       "    </tr>\n",
       "    <tr>\n",
       "      <th>3</th>\n",
       "      <td>I1CM</td>\n",
       "      <td>34</td>\n",
       "    </tr>\n",
       "    <tr>\n",
       "      <th>4</th>\n",
       "      <td>D2CM</td>\n",
       "      <td>27</td>\n",
       "    </tr>\n",
       "    <tr>\n",
       "      <th>5</th>\n",
       "      <td>C2CM</td>\n",
       "      <td>23</td>\n",
       "    </tr>\n",
       "    <tr>\n",
       "      <th>6</th>\n",
       "      <td>D1CM</td>\n",
       "      <td>19</td>\n",
       "    </tr>\n",
       "    <tr>\n",
       "      <th>7</th>\n",
       "      <td>L2CM</td>\n",
       "      <td>14</td>\n",
       "    </tr>\n",
       "    <tr>\n",
       "      <th>8</th>\n",
       "      <td>C1LM</td>\n",
       "      <td>8</td>\n",
       "    </tr>\n",
       "    <tr>\n",
       "      <th>9</th>\n",
       "      <td>L1LM</td>\n",
       "      <td>8</td>\n",
       "    </tr>\n",
       "    <tr>\n",
       "      <th>10</th>\n",
       "      <td>I2CM</td>\n",
       "      <td>7</td>\n",
       "    </tr>\n",
       "    <tr>\n",
       "      <th>11</th>\n",
       "      <td>D5CM</td>\n",
       "      <td>5</td>\n",
       "    </tr>\n",
       "    <tr>\n",
       "      <th>12</th>\n",
       "      <td>D5MM</td>\n",
       "      <td>5</td>\n",
       "    </tr>\n",
       "    <tr>\n",
       "      <th>13</th>\n",
       "      <td>D2MM</td>\n",
       "      <td>4</td>\n",
       "    </tr>\n",
       "    <tr>\n",
       "      <th>14</th>\n",
       "      <td>I1LM</td>\n",
       "      <td>3</td>\n",
       "    </tr>\n",
       "    <tr>\n",
       "      <th>15</th>\n",
       "      <td>D5TM</td>\n",
       "      <td>3</td>\n",
       "    </tr>\n",
       "    <tr>\n",
       "      <th>16</th>\n",
       "      <td>C2MM</td>\n",
       "      <td>3</td>\n",
       "    </tr>\n",
       "    <tr>\n",
       "      <th>17</th>\n",
       "      <td>C5CM</td>\n",
       "      <td>3</td>\n",
       "    </tr>\n",
       "    <tr>\n",
       "      <th>18</th>\n",
       "      <td>C2LM</td>\n",
       "      <td>2</td>\n",
       "    </tr>\n",
       "    <tr>\n",
       "      <th>19</th>\n",
       "      <td>C1MM</td>\n",
       "      <td>1</td>\n",
       "    </tr>\n",
       "    <tr>\n",
       "      <th>20</th>\n",
       "      <td>I2MM</td>\n",
       "      <td>1</td>\n",
       "    </tr>\n",
       "    <tr>\n",
       "      <th>21</th>\n",
       "      <td>I5CM</td>\n",
       "      <td>1</td>\n",
       "    </tr>\n",
       "    <tr>\n",
       "      <th>22</th>\n",
       "      <td>I5MM</td>\n",
       "      <td>1</td>\n",
       "    </tr>\n",
       "    <tr>\n",
       "      <th>23</th>\n",
       "      <td>C5MM</td>\n",
       "      <td>1</td>\n",
       "    </tr>\n",
       "    <tr>\n",
       "      <th>24</th>\n",
       "      <td>L1MM</td>\n",
       "      <td>1</td>\n",
       "    </tr>\n",
       "    <tr>\n",
       "      <th>25</th>\n",
       "      <td>C5TM</td>\n",
       "      <td>1</td>\n",
       "    </tr>\n",
       "    <tr>\n",
       "      <th>26</th>\n",
       "      <td>L2TM</td>\n",
       "      <td>1</td>\n",
       "    </tr>\n",
       "  </tbody>\n",
       "</table>\n",
       "</div>"
      ],
      "text/plain": [
       "   category  counts\n",
       "0      XXXX   90290\n",
       "1      C1CM      59\n",
       "2      L1CM      44\n",
       "3      I1CM      34\n",
       "4      D2CM      27\n",
       "5      C2CM      23\n",
       "6      D1CM      19\n",
       "7      L2CM      14\n",
       "8      C1LM       8\n",
       "9      L1LM       8\n",
       "10     I2CM       7\n",
       "11     D5CM       5\n",
       "12     D5MM       5\n",
       "13     D2MM       4\n",
       "14     I1LM       3\n",
       "15     D5TM       3\n",
       "16     C2MM       3\n",
       "17     C5CM       3\n",
       "18     C2LM       2\n",
       "19     C1MM       1\n",
       "20     I2MM       1\n",
       "21     I5CM       1\n",
       "22     I5MM       1\n",
       "23     C5MM       1\n",
       "24     L1MM       1\n",
       "25     C5TM       1\n",
       "26     L2TM       1"
      ]
     },
     "execution_count": 11,
     "metadata": {},
     "output_type": "execute_result"
    }
   ],
   "source": [
    "vals.columns=[\"category\",\"counts\"]\n",
    "vals\n",
    "              "
   ]
  },
  {
   "cell_type": "code",
   "execution_count": 12,
   "id": "dbdf1330",
   "metadata": {},
   "outputs": [
    {
     "data": {
      "text/plain": [
       "['C1CM',\n",
       " 'L1CM',\n",
       " 'I1CM',\n",
       " 'D2CM',\n",
       " 'C2CM',\n",
       " 'D1CM',\n",
       " 'L2CM',\n",
       " 'C1LM',\n",
       " 'L1LM',\n",
       " 'I2CM',\n",
       " 'D5CM',\n",
       " 'D5MM',\n",
       " 'D2MM',\n",
       " 'I1LM',\n",
       " 'D5TM',\n",
       " 'C2MM',\n",
       " 'C5CM',\n",
       " 'C2LM',\n",
       " 'C1MM',\n",
       " 'I2MM',\n",
       " 'I5CM',\n",
       " 'I5MM',\n",
       " 'C5MM',\n",
       " 'L1MM',\n",
       " 'C5TM',\n",
       " 'L2TM']"
      ]
     },
     "execution_count": 12,
     "metadata": {},
     "output_type": "execute_result"
    }
   ],
   "source": [
    "grupos = vals[vals['counts']<60]\n",
    "md_g = list(grupos['category'])\n",
    "md_g"
   ]
  },
  {
   "cell_type": "code",
   "execution_count": null,
   "id": "3aee7e6e",
   "metadata": {},
   "outputs": [],
   "source": []
  },
  {
   "cell_type": "code",
   "execution_count": 13,
   "id": "bb422d3d",
   "metadata": {},
   "outputs": [
    {
     "data": {
      "text/plain": [
       "XXXX     90290\n",
       "other      279\n",
       "Name: MDMAUD, dtype: int64"
      ]
     },
     "execution_count": 13,
     "metadata": {},
     "output_type": "execute_result"
    }
   ],
   "source": [
    "data['MDMAUD'] = data['MDMAUD'].apply(lambda x: 'other' if x in md_g else x)\n",
    "data['MDMAUD'].value_counts()"
   ]
  },
  {
   "cell_type": "markdown",
   "id": "2bf50a8b",
   "metadata": {},
   "source": [
    "# 4.02 Activity 4\n",
    "\n",
    "Create a function to automate the process of reducing the number of values of a categorical column."
   ]
  },
  {
   "cell_type": "code",
   "execution_count": 19,
   "id": "bfe004ea",
   "metadata": {},
   "outputs": [],
   "source": [
    "def CleanCategorical(x,y):\n",
    "    vals=pd.DataFrame(data[x].value_counts()/len(data[x]))\n",
    "    vals=vals.reset_index()\n",
    "    vals.columns=[\"category\",\"porcentaje\"]\n",
    "    grupos = vals[vals['porcentaje']<y]\n",
    "    md_g = list(grupos['category'])\n",
    "    data[\"new\"+x] = data[x].apply(lambda x: 'other' if x in md_g else x)\n",
    "    md_g"
   ]
  },
  {
   "cell_type": "code",
   "execution_count": 15,
   "id": "78205d8b",
   "metadata": {},
   "outputs": [
    {
     "ename": "SyntaxError",
     "evalue": "incomplete input (3188416077.py, line 7)",
     "output_type": "error",
     "traceback": [
      "\u001b[1;36m  Cell \u001b[1;32mIn[15], line 7\u001b[1;36m\u001b[0m\n\u001b[1;33m    data[\"STATE\"].value_counts() '''\u001b[0m\n\u001b[1;37m                                 ^\u001b[0m\n\u001b[1;31mSyntaxError\u001b[0m\u001b[1;31m:\u001b[0m incomplete input\n"
     ]
    }
   ],
   "source": [
    "'''vals=pd.DataFrame(data[\"STATE\"].value_counts()/len(data[\"STATE\"]))\n",
    "vals=vals.reset_index()\n",
    "vals.columns=[\"category\",\"porcentaje\"]\n",
    "grupos = vals[vals['porcentaje']<.05]\n",
    "md_g = list(grupos['category'])\n",
    "data[\"STATE\"] = data[\"STATE\"].apply(lambda x: 'other' if x in md_g else x)\n",
    "data[\"STATE\"].value_counts() '''"
   ]
  },
  {
   "cell_type": "code",
   "execution_count": 29,
   "id": "9da5e26f",
   "metadata": {},
   "outputs": [
    {
     "data": {
      "text/plain": [
       "Unnamed: 0      int64\n",
       "STATE          object\n",
       "PVASTATE       object\n",
       "DOB             int64\n",
       "MDMAUD         object\n",
       "RECP3          object\n",
       "GENDER         object\n",
       "DOMAIN         object\n",
       "INCOME        float64\n",
       "HOMEOWNR       object\n",
       "HV1             int64\n",
       "HV2             int64\n",
       "HV3             int64\n",
       "HV4             int64\n",
       "IC1             int64\n",
       "IC2             int64\n",
       "IC3             int64\n",
       "IC4             int64\n",
       "IC5             int64\n",
       "VETERANS       object\n",
       "NUMPROM         int64\n",
       "CARDPROM        int64\n",
       "CARDPM12        int64\n",
       "NUMPRM12        int64\n",
       "MAXADATE        int64\n",
       "RFA_2          object\n",
       "NGIFTALL        int64\n",
       "TIMELAG       float64\n",
       "AVGGIFT       float64\n",
       "newSTATE       object\n",
       "dtype: object"
      ]
     },
     "execution_count": 29,
     "metadata": {},
     "output_type": "execute_result"
    }
   ],
   "source": [
    "data.dtypes"
   ]
  },
  {
   "cell_type": "code",
   "execution_count": 32,
   "id": "830a2f9c",
   "metadata": {},
   "outputs": [],
   "source": [
    "CleanCategorical(\"RFA_2\",.05)"
   ]
  },
  {
   "cell_type": "code",
   "execution_count": 33,
   "id": "0cf99317",
   "metadata": {},
   "outputs": [
    {
     "data": {
      "text/plain": [
       "L1F      29207\n",
       "other    22365\n",
       "L1G      12007\n",
       "L2F      10398\n",
       "L3E       7244\n",
       "L2E       4681\n",
       "L1E       4667\n",
       "Name: newRFA_2, dtype: int64"
      ]
     },
     "execution_count": 33,
     "metadata": {},
     "output_type": "execute_result"
    }
   ],
   "source": [
    "data[\"newRFA_2\"].value_counts()"
   ]
  }
 ],
 "metadata": {
  "kernelspec": {
   "display_name": "Python 3 (ipykernel)",
   "language": "python",
   "name": "python3"
  },
  "language_info": {
   "codemirror_mode": {
    "name": "ipython",
    "version": 3
   },
   "file_extension": ".py",
   "mimetype": "text/x-python",
   "name": "python",
   "nbconvert_exporter": "python",
   "pygments_lexer": "ipython3",
   "version": "3.11.1"
  }
 },
 "nbformat": 4,
 "nbformat_minor": 5
}
