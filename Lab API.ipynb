{
 "cells": [
  {
   "cell_type": "markdown",
   "id": "cf4be297",
   "metadata": {},
   "source": [
    "![logo_ironhack_blue 7](https://user-images.githubusercontent.com/23629340/40541063-a07a0a8a-601a-11e8-91b5-2f13e4e6b441.png)\n",
    "\n",
    "# Lab | Working with APIs\n",
    "\n",
    "#### Instructions \n",
    "\n",
    "Following the class example, create a function that returns the price, names of origin and arrival airports and the name of the company. Do it for all the flights between two dates that cost the same."
   ]
  },
  {
   "cell_type": "code",
   "execution_count": 5,
   "id": "54accc6b",
   "metadata": {},
   "outputs": [],
   "source": [
    "import pandas as pd"
   ]
  },
  {
   "cell_type": "code",
   "execution_count": 6,
   "id": "da7efda4",
   "metadata": {},
   "outputs": [
    {
     "data": {
      "text/plain": [
       "Index(['Unnamed: 0', 'type', 'name', 'latitude_deg', 'longitude_deg',\n",
       "       'elevation_ft', 'iso_country', 'gps_code', 'iata_code'],\n",
       "      dtype='object')"
      ]
     },
     "execution_count": 6,
     "metadata": {},
     "output_type": "execute_result"
    }
   ],
   "source": [
    "\n",
    "airports = pd.read_csv('airports_of_EU.csv')\n",
    "airports.columns"
   ]
  },
  {
   "cell_type": "code",
   "execution_count": 8,
   "id": "3d97c71c",
   "metadata": {},
   "outputs": [
    {
     "data": {
      "text/html": [
       "<div>\n",
       "<style scoped>\n",
       "    .dataframe tbody tr th:only-of-type {\n",
       "        vertical-align: middle;\n",
       "    }\n",
       "\n",
       "    .dataframe tbody tr th {\n",
       "        vertical-align: top;\n",
       "    }\n",
       "\n",
       "    .dataframe thead th {\n",
       "        text-align: right;\n",
       "    }\n",
       "</style>\n",
       "<table border=\"1\" class=\"dataframe\">\n",
       "  <thead>\n",
       "    <tr style=\"text-align: right;\">\n",
       "      <th></th>\n",
       "      <th>name</th>\n",
       "      <th>iso_country</th>\n",
       "      <th>iata_code</th>\n",
       "    </tr>\n",
       "  </thead>\n",
       "  <tbody>\n",
       "    <tr>\n",
       "      <th>0</th>\n",
       "      <td>Ameis Airstrip</td>\n",
       "      <td>AT</td>\n",
       "      <td>NaN</td>\n",
       "    </tr>\n",
       "    <tr>\n",
       "      <th>1</th>\n",
       "      <td>Sport airfield Ciljuge</td>\n",
       "      <td>BA</td>\n",
       "      <td>NaN</td>\n",
       "    </tr>\n",
       "    <tr>\n",
       "      <th>2</th>\n",
       "      <td>Sportski Aerodrom Zalužani</td>\n",
       "      <td>BA</td>\n",
       "      <td>NaN</td>\n",
       "    </tr>\n",
       "    <tr>\n",
       "      <th>3</th>\n",
       "      <td>Brod Airstrip</td>\n",
       "      <td>BA</td>\n",
       "      <td>NaN</td>\n",
       "    </tr>\n",
       "    <tr>\n",
       "      <th>4</th>\n",
       "      <td>Trustikovo Airstrip</td>\n",
       "      <td>BG</td>\n",
       "      <td>NaN</td>\n",
       "    </tr>\n",
       "    <tr>\n",
       "      <th>...</th>\n",
       "      <td>...</td>\n",
       "      <td>...</td>\n",
       "      <td>...</td>\n",
       "    </tr>\n",
       "    <tr>\n",
       "      <th>6493</th>\n",
       "      <td>Plockton Airstrip</td>\n",
       "      <td>GB</td>\n",
       "      <td>NaN</td>\n",
       "    </tr>\n",
       "    <tr>\n",
       "      <th>6494</th>\n",
       "      <td>Lebyazhye Air Base</td>\n",
       "      <td>RU</td>\n",
       "      <td>NaN</td>\n",
       "    </tr>\n",
       "    <tr>\n",
       "      <th>6495</th>\n",
       "      <td>Smolensk North Airport</td>\n",
       "      <td>RU</td>\n",
       "      <td>LNX</td>\n",
       "    </tr>\n",
       "    <tr>\n",
       "      <th>6496</th>\n",
       "      <td>Sosnovka Airfield</td>\n",
       "      <td>RU</td>\n",
       "      <td>NaN</td>\n",
       "    </tr>\n",
       "    <tr>\n",
       "      <th>6497</th>\n",
       "      <td>Rtishchevo Air Base</td>\n",
       "      <td>RU</td>\n",
       "      <td>NaN</td>\n",
       "    </tr>\n",
       "  </tbody>\n",
       "</table>\n",
       "<p>6498 rows × 3 columns</p>\n",
       "</div>"
      ],
      "text/plain": [
       "                            name iso_country iata_code\n",
       "0                 Ameis Airstrip          AT       NaN\n",
       "1         Sport airfield Ciljuge          BA       NaN\n",
       "2     Sportski Aerodrom Zalužani          BA       NaN\n",
       "3                  Brod Airstrip          BA       NaN\n",
       "4            Trustikovo Airstrip          BG       NaN\n",
       "...                          ...         ...       ...\n",
       "6493           Plockton Airstrip          GB       NaN\n",
       "6494          Lebyazhye Air Base          RU       NaN\n",
       "6495      Smolensk North Airport          RU       LNX\n",
       "6496           Sosnovka Airfield          RU       NaN\n",
       "6497         Rtishchevo Air Base          RU       NaN\n",
       "\n",
       "[6498 rows x 3 columns]"
      ]
     },
     "execution_count": 8,
     "metadata": {},
     "output_type": "execute_result"
    }
   ],
   "source": [
    "airports = airports[['name','iso_country','iata_code']]\n",
    "airports"
   ]
  },
  {
   "cell_type": "code",
   "execution_count": 10,
   "id": "117f853c",
   "metadata": {},
   "outputs": [],
   "source": [
    "airports = airports.dropna(subset=['iata_code'])"
   ]
  },
  {
   "cell_type": "code",
   "execution_count": 11,
   "id": "603a9a51",
   "metadata": {},
   "outputs": [
    {
     "data": {
      "text/html": [
       "<div>\n",
       "<style scoped>\n",
       "    .dataframe tbody tr th:only-of-type {\n",
       "        vertical-align: middle;\n",
       "    }\n",
       "\n",
       "    .dataframe tbody tr th {\n",
       "        vertical-align: top;\n",
       "    }\n",
       "\n",
       "    .dataframe thead th {\n",
       "        text-align: right;\n",
       "    }\n",
       "</style>\n",
       "<table border=\"1\" class=\"dataframe\">\n",
       "  <thead>\n",
       "    <tr style=\"text-align: right;\">\n",
       "      <th></th>\n",
       "      <th>name</th>\n",
       "      <th>iso_country</th>\n",
       "      <th>iata_code</th>\n",
       "    </tr>\n",
       "  </thead>\n",
       "  <tbody>\n",
       "    <tr>\n",
       "      <th>59</th>\n",
       "      <td>Malevo Airport</td>\n",
       "      <td>BG</td>\n",
       "      <td>HKV</td>\n",
       "    </tr>\n",
       "    <tr>\n",
       "      <th>60</th>\n",
       "      <td>Bezmer Air Base</td>\n",
       "      <td>BG</td>\n",
       "      <td>JAM</td>\n",
       "    </tr>\n",
       "    <tr>\n",
       "      <th>63</th>\n",
       "      <td>Akureyri Airport</td>\n",
       "      <td>IS</td>\n",
       "      <td>AEY</td>\n",
       "    </tr>\n",
       "    <tr>\n",
       "      <th>65</th>\n",
       "      <td>Bildudalur Airport</td>\n",
       "      <td>IS</td>\n",
       "      <td>BIU</td>\n",
       "    </tr>\n",
       "    <tr>\n",
       "      <th>66</th>\n",
       "      <td>Borgarfjörður eystri Airport</td>\n",
       "      <td>IS</td>\n",
       "      <td>BGJ</td>\n",
       "    </tr>\n",
       "    <tr>\n",
       "      <th>...</th>\n",
       "      <td>...</td>\n",
       "      <td>...</td>\n",
       "      <td>...</td>\n",
       "    </tr>\n",
       "    <tr>\n",
       "      <th>6475</th>\n",
       "      <td>Neftekamsk Airport</td>\n",
       "      <td>RU</td>\n",
       "      <td>NEF</td>\n",
       "    </tr>\n",
       "    <tr>\n",
       "      <th>6476</th>\n",
       "      <td>Oktyabrskiy Airport</td>\n",
       "      <td>RU</td>\n",
       "      <td>OKT</td>\n",
       "    </tr>\n",
       "    <tr>\n",
       "      <th>6478</th>\n",
       "      <td>Ufa International Airport</td>\n",
       "      <td>RU</td>\n",
       "      <td>UFA</td>\n",
       "    </tr>\n",
       "    <tr>\n",
       "      <th>6485</th>\n",
       "      <td>Kurumoch International Airport</td>\n",
       "      <td>RU</td>\n",
       "      <td>KUF</td>\n",
       "    </tr>\n",
       "    <tr>\n",
       "      <th>6495</th>\n",
       "      <td>Smolensk North Airport</td>\n",
       "      <td>RU</td>\n",
       "      <td>LNX</td>\n",
       "    </tr>\n",
       "  </tbody>\n",
       "</table>\n",
       "<p>1050 rows × 3 columns</p>\n",
       "</div>"
      ],
      "text/plain": [
       "                                name iso_country iata_code\n",
       "59                    Malevo Airport          BG       HKV\n",
       "60                   Bezmer Air Base          BG       JAM\n",
       "63                  Akureyri Airport          IS       AEY\n",
       "65                Bildudalur Airport          IS       BIU\n",
       "66      Borgarfjörður eystri Airport          IS       BGJ\n",
       "...                              ...         ...       ...\n",
       "6475              Neftekamsk Airport          RU       NEF\n",
       "6476             Oktyabrskiy Airport          RU       OKT\n",
       "6478       Ufa International Airport          RU       UFA\n",
       "6485  Kurumoch International Airport          RU       KUF\n",
       "6495          Smolensk North Airport          RU       LNX\n",
       "\n",
       "[1050 rows x 3 columns]"
      ]
     },
     "execution_count": 11,
     "metadata": {},
     "output_type": "execute_result"
    }
   ],
   "source": [
    "airports"
   ]
  },
  {
   "cell_type": "code",
   "execution_count": 14,
   "id": "f8fad14a",
   "metadata": {},
   "outputs": [],
   "source": [
    "def find_airport_code(airport_name):\n",
    "    #Busca el código del aeropuerto correspondiente al nombre ingresado por el usuario en un DataFrame.\n",
    "    \n",
    "    selection = airports[airports.iloc[:,0].str.contains(airport_name, case=False)]\n",
    "    if not selection.empty:\n",
    "        return selection.iloc[0,2]\n",
    "    else:\n",
    "        return 'No hay Codigo'"
   ]
  },
  {
   "cell_type": "code",
   "execution_count": 18,
   "id": "33f1cdf9",
   "metadata": {},
   "outputs": [
    {
     "data": {
      "text/plain": [
       "'AMS'"
      ]
     },
     "execution_count": 18,
     "metadata": {},
     "output_type": "execute_result"
    }
   ],
   "source": [
    "find_airport_code('amsterdam')"
   ]
  },
  {
   "cell_type": "code",
   "execution_count": 20,
   "id": "d16d53b9",
   "metadata": {},
   "outputs": [
    {
     "name": "stdout",
     "output_type": "stream",
     "text": [
      "Que dia quieres viajar? YYYY-MM-DD2023-06-06\n",
      "De donde quieres viajar?amsterdam\n",
      "A donde quieres viajar? berlin\n"
     ]
    }
   ],
   "source": [
    "dia = input('Que dia quieres viajar? YYYY-MM-DD')\n",
    "origen = input(\"De donde quieres viajar?\")\n",
    "destino = input('A donde quieres viajar? ')"
   ]
  },
  {
   "cell_type": "code",
   "execution_count": 21,
   "id": "19e66380",
   "metadata": {},
   "outputs": [
    {
     "name": "stdout",
     "output_type": "stream",
     "text": [
      "{'status': True, 'message': 'Success', 'timestamp': 1683574887696, 'data': [{'PlaceId': 'BER', 'PlaceName': 'Berlin Brandenburg', 'LocalizedPlaceName': '', 'CountryId': 'DE', 'CityId': 'BERL', 'IataCode': '', 'CountryName': 'Germany', 'PlaceNameEn': '', 'CityName': 'Berlin', 'CityNameEn': '', 'GeoId': '95673383', 'GeoContainerId': '27547053', 'Location': '52.366667,13.50333', 'ResultingPhrase': 'Berlin Brandenburg (BER), Berlin|Berlin|Germany', 'UntransliteratedResultingPhrase': 'Berlin Brandenburg (BER), Berlin|Berlin|Germany'}, {'PlaceId': 'AUS', 'PlaceName': 'Austin-Bergstrom', 'LocalizedPlaceName': '', 'CountryId': 'US', 'CityId': 'AUSA', 'IataCode': '', 'CountryName': 'United States', 'PlaceNameEn': '', 'CityName': 'Austin', 'CityNameEn': '', 'GeoId': '95673643', 'GeoContainerId': '27537702', 'Location': '30.2,-97.666667', 'ResultingPhrase': 'Austin-Bergstrom (AUS), Austin|Travis County|Texas|United States', 'UntransliteratedResultingPhrase': 'Austin-Bergstrom (AUS), Austin|Travis County|Texas|United States'}, {'PlaceId': 'BGY', 'PlaceName': 'Milan Bergamo', 'LocalizedPlaceName': '', 'CountryId': 'IT', 'CityId': 'MILA', 'IataCode': '', 'CountryName': 'Italy', 'PlaceNameEn': '', 'CityName': 'Milan', 'CityNameEn': '', 'GeoId': '95565071', 'GeoContainerId': '27544068', 'Location': '45.668333,9.700278', 'ResultingPhrase': 'Milan Bergamo (BGY), Milan|Metropolitan City of Milan|Lombardy|Italy', 'UntransliteratedResultingPhrase': 'Milan Bergamo (BGY), Milan|Metropolitan City of Milan|Lombardy|Italy'}, {'PlaceId': 'BGO', 'PlaceName': 'Bergen', 'LocalizedPlaceName': '', 'CountryId': 'NO', 'CityId': 'BERI', 'IataCode': '', 'CountryName': 'Norway', 'PlaceNameEn': '', 'CityName': 'Bergen', 'CityNameEn': '', 'GeoId': '128668278', 'GeoContainerId': '27538759', 'Location': '60.293611,5.219444', 'ResultingPhrase': 'Bergen (BGO), Bergen|Bergen|Norway', 'UntransliteratedResultingPhrase': 'Bergen (BGO), Bergen|Bergen|Norway'}, {'PlaceId': 'BM', 'PlaceName': 'Bermuda', 'LocalizedPlaceName': '', 'CountryId': 'BM', 'CityId': '', 'IataCode': '', 'CountryName': 'Bermuda', 'PlaceNameEn': '', 'CityName': '', 'CityNameEn': '', 'GeoId': '29475086', 'GeoContainerId': '29475086', 'Location': '32.3117650658,-64.7723991192', 'ResultingPhrase': 'Bermuda', 'UntransliteratedResultingPhrase': 'Bermuda'}, {'PlaceId': 'BRN', 'PlaceName': 'Bern', 'LocalizedPlaceName': '', 'CountryId': 'CH', 'CityId': 'BERN', 'IataCode': '', 'CountryName': 'Switzerland', 'PlaceNameEn': '', 'CityName': 'Bern', 'CityNameEn': '', 'GeoId': '95673858', 'GeoContainerId': '27539560', 'Location': '46.915278,7.499167', 'ResultingPhrase': 'Bern (BRN), Bern|Canton of Bern|Switzerland', 'UntransliteratedResultingPhrase': 'Bern (BRN), Bern|Canton of Bern|Switzerland'}, {'PlaceId': 'EGC', 'PlaceName': 'Bergerac', 'LocalizedPlaceName': '', 'CountryId': 'FR', 'CityId': 'BERG', 'IataCode': '', 'CountryName': 'France', 'PlaceNameEn': '', 'CityName': 'Bergerac', 'CityNameEn': '', 'GeoId': '128668009', 'GeoContainerId': '27540873', 'Location': '44.825279,0.518611', 'ResultingPhrase': 'Bergerac (EGC), Bergerac|Dordogne|Nouvelle-Aquitaine|France', 'UntransliteratedResultingPhrase': 'Bergerac (EGC), Bergerac|Dordogne|Nouvelle-Aquitaine|France'}, {'PlaceId': 'EWN', 'PlaceName': 'New Bern', 'LocalizedPlaceName': '', 'CountryId': 'US', 'CityId': 'EWNA', 'IataCode': '', 'CountryName': 'United States', 'PlaceNameEn': '', 'CityName': 'New Bern', 'CityNameEn': '', 'GeoId': '95674290', 'GeoContainerId': '27540973', 'Location': '35.073611,-77.0425', 'ResultingPhrase': 'New Bern (EWN), New Bern|Craven County|North Carolina|United States', 'UntransliteratedResultingPhrase': 'New Bern (EWN), New Bern|Craven County|North Carolina|United States'}, {'Tags': ['GENERAL_SEARCH_V2'], 'PlaceName': 'Berlin', 'LocalizedPlaceName': '', 'CountryId': 'DE', 'CityId': '', 'IataCode': '', 'CountryName': 'Germany', 'PlaceNameEn': '', 'CityName': 'Berlin', 'CityNameEn': '', 'GeoId': '46527914', 'GeoContainerId': '46527914', 'AirportInformation': {'PlaceId': 'HAM', 'PlaceName': 'Hamburg International', 'LocalizedPlaceName': '', 'CountryId': 'DE', 'CityId': 'HAMB', 'IataCode': '', 'CountryName': '', 'PlaceNameEn': '', 'RegionId': '', 'CityName': '', 'CityNameEn': '', 'GeoId': '95673433', 'GeoContainerId': '27536295', 'Distance': {'Value': 33.216818262813916, 'UnitCode': 'mile'}, 'Location': '53.6336347,9.9973162', 'ResultingPhrase': None, 'Highlighting': None}, 'Location': '54.0333332926,10.4499999148', 'ResultingPhrase': 'Berlin|Schleswig-Holstein|Germany', 'UntransliteratedResultingPhrase': 'Berlin|Schleswig-Holstein|Germany'}, {'PlaceId': 'SBD', 'PlaceName': 'San Bernardino Norton AFB', 'LocalizedPlaceName': '', 'CountryId': 'US', 'CityId': 'SBTA', 'IataCode': '', 'CountryName': 'United States', 'PlaceNameEn': '', 'CityName': 'San Bernardino', 'CityNameEn': '', 'GeoId': '129052557', 'GeoContainerId': '27546253', 'Location': '34.116667,-117.233333', 'ResultingPhrase': 'San Bernardino Norton AFB (SBD), San Bernardino|San Bernardino County|California|United States', 'UntransliteratedResultingPhrase': 'San Bernardino Norton AFB (SBD), San Bernardino|San Bernardino County|California|United States'}]}\n"
     ]
    }
   ],
   "source": [
    "import requests\n",
    "\n",
    "url = \"https://skyscanner50.p.rapidapi.com/api/v1/searchAirport\"\n",
    "\n",
    "querystring = {\"query\":find_airport_code(destino)}\n",
    "\n",
    "headers = {\n",
    "\t\"X-RapidAPI-Key\": \"3a6f48f68emshd065bc6c8787aadp19d83cjsn25cdf003cbdc\",\n",
    "\t\"X-RapidAPI-Host\": \"skyscanner50.p.rapidapi.com\"\n",
    "}\n",
    "\n",
    "response = requests.get(url, headers=headers, params=querystring)\n",
    "\n",
    "print(response.json())"
   ]
  },
  {
   "cell_type": "code",
   "execution_count": 23,
   "id": "32f8b0be",
   "metadata": {},
   "outputs": [
    {
     "name": "stdout",
     "output_type": "stream",
     "text": [
      "{'itineraries': {'results': [{'id': '9451-2306061520--32132-0-9828-2306061640', 'legs': [{'id': '9451-2306061520--32132-0-9828-2306061640', 'origin': {'id': 9451, 'name': 'Amsterdam', 'displayCode': 'AMS'}, 'destination': {'id': 9828, 'name': 'Berlin Brandenburg', 'displayCode': 'BER'}, 'durationInMinutes': 80, 'stopCount': 0, 'isSmallestStops': True, 'departure': '2023-06-06T15:20:00', 'arrival': '2023-06-06T16:40:00', 'timeDeltaInDays': 0, 'carriers': {'marketing': [{'id': -32132, 'name': 'KLM'}], 'operationType': 'fully_operated'}, 'segments': [{'id': '9451-9828-2306061520-2306061640--32132', 'origin': {'flightPlaceId': 'AMS', 'parent': {'flightPlaceId': 'AMS', 'name': 'Amsterdam', 'type': 'City'}, 'name': 'Amsterdam', 'type': 'Airport'}, 'destination': {'flightPlaceId': 'BER', 'parent': {'flightPlaceId': 'BER', 'name': 'Berlin', 'type': 'City'}, 'name': 'Berlin Brandenburg', 'type': 'Airport'}, 'departure': '2023-06-06T15:20:00', 'arrival': '2023-06-06T16:40:00', 'durationInMinutes': 80, 'flightNumber': '1829', 'marketingCarrier': {'id': -32132, 'name': 'KLM', 'alternate_di': 'KL', 'allianceId': -31998}, 'operatingCarrier': {'id': -32132, 'name': 'KLM', 'alternate_di': 'KL', 'allianceId': -31998}}]}], 'pricing_options': [{'agents': [{'id': 'ctuk', 'name': 'Trip.com', 'is_carrier': False, 'update_status': 'pending', 'optimised_for_mobile': True, 'live_update_allowed': True, 'rating_status': 'available', 'rating': 3.84, 'feedback_count': 74754, 'rating_breakdown': {'reliable_prices': 3.777468, 'clear_extra_fees': 4.379816, 'customer_service': 4.993568, 'ease_of_booking': 4.205436, 'other': 2.992844}}], 'price': {'amount': 125.55, 'update_status': 'pending', 'last_updated': '2023-05-08T17:18:51', 'quote_age': 143}, 'url': 'https://www.skyscanner.net/transport_deeplink/4.0/UK/en-GB/EUR/ctuk/1/9451.9828.2023-06-06/air/trava/flights?itinerary=flight%7C-32132%7C1829%7C9451%7C2023-06-06T15%3A20%7C9828%7C2023-06-06T16%3A40%7C80%7C-%7C-%7C-&carriers=-32132&operators=-32132&passengers=1&channel=website&cabin_class=economy&ticket_price=125.55&is_npt=false&is_multipart=false&client_id=skyscanner_website&q_sources=JACQUARD&commercial_filters=false&q_datetime_utc=2023-05-08T17%3A18%3A51&pqid=true'}], 'deeplink': 'https://www.skyscanner.net/transport/flights/ams/ber/230606/config/9451-2306061520--32132-0-9828-2306061640?adults=1&adultsv2=1&cabinclass=economy&children=0&childrenv2=&destinationentityid=27547053&originentityid=27536561&inboundaltsenabled=false&infants=0&outboundaltsenabled=false&preferdirects=false&ref=home&rtn=0'}, {'id': '9451-2306061645--32132-0-9828-2306061800', 'legs': [{'id': '9451-2306061645--32132-0-9828-2306061800', 'origin': {'id': 9451, 'name': 'Amsterdam', 'displayCode': 'AMS'}, 'destination': {'id': 9828, 'name': 'Berlin Brandenburg', 'displayCode': 'BER'}, 'durationInMinutes': 75, 'stopCount': 0, 'isSmallestStops': True, 'departure': '2023-06-06T16:45:00', 'arrival': '2023-06-06T18:00:00', 'timeDeltaInDays': 0, 'carriers': {'marketing': [{'id': -32132, 'name': 'KLM'}], 'operationType': 'fully_operated'}, 'segments': [{'id': '9451-9828-2306061645-2306061800--32132', 'origin': {'flightPlaceId': 'AMS', 'parent': {'flightPlaceId': 'AMS', 'name': 'Amsterdam', 'type': 'City'}, 'name': 'Amsterdam', 'type': 'Airport'}, 'destination': {'flightPlaceId': 'BER', 'parent': {'flightPlaceId': 'BER', 'name': 'Berlin', 'type': 'City'}, 'name': 'Berlin Brandenburg', 'type': 'Airport'}, 'departure': '2023-06-06T16:45:00', 'arrival': '2023-06-06T18:00:00', 'durationInMinutes': 75, 'flightNumber': '1831', 'marketingCarrier': {'id': -32132, 'name': 'KLM', 'alternate_di': 'KL', 'allianceId': -31998}, 'operatingCarrier': {'id': -32131, 'name': 'KLM Cityhopper', 'alternate_di': 'WA'}}]}], 'pricing_options': [{'agents': [{'id': 'ctuk', 'name': 'Trip.com', 'is_carrier': False, 'update_status': 'pending', 'optimised_for_mobile': True, 'live_update_allowed': True, 'rating_status': 'available', 'rating': 3.84, 'feedback_count': 74754, 'rating_breakdown': {'reliable_prices': 3.777468, 'clear_extra_fees': 4.379816, 'customer_service': 4.993568, 'ease_of_booking': 4.205436, 'other': 2.992844}}], 'price': {'amount': 161.55, 'update_status': 'pending', 'last_updated': '2023-05-08T17:18:51', 'quote_age': 143}, 'url': 'https://www.skyscanner.net/transport_deeplink/4.0/UK/en-GB/EUR/ctuk/1/9451.9828.2023-06-06/air/trava/flights?itinerary=flight%7C-32132%7C1831%7C9451%7C2023-06-06T16%3A45%7C9828%7C2023-06-06T18%3A00%7C75%7C-%7C-%7C-&carriers=-32132&operators=-32131&passengers=1&channel=website&cabin_class=economy&ticket_price=161.55&is_npt=false&is_multipart=false&client_id=skyscanner_website&q_sources=JACQUARD&commercial_filters=false&q_datetime_utc=2023-05-08T17%3A18%3A51&pqid=true'}], 'deeplink': 'https://www.skyscanner.net/transport/flights/ams/ber/230606/config/9451-2306061645--32132-0-9828-2306061800?adults=1&adultsv2=1&cabinclass=economy&children=0&childrenv2=&destinationentityid=27547053&originentityid=27536561&inboundaltsenabled=false&infants=0&outboundaltsenabled=false&preferdirects=false&ref=home&rtn=0'}, {'id': '9451-2306061015--32132-0-9828-2306061130', 'legs': [{'id': '9451-2306061015--32132-0-9828-2306061130', 'origin': {'id': 9451, 'name': 'Amsterdam', 'displayCode': 'AMS'}, 'destination': {'id': 9828, 'name': 'Berlin Brandenburg', 'displayCode': 'BER'}, 'durationInMinutes': 75, 'stopCount': 0, 'isSmallestStops': True, 'departure': '2023-06-06T10:15:00', 'arrival': '2023-06-06T11:30:00', 'timeDeltaInDays': 0, 'carriers': {'marketing': [{'id': -32132, 'name': 'KLM'}], 'operationType': 'fully_operated'}, 'segments': [{'id': '9451-9828-2306061015-2306061130--32132', 'origin': {'flightPlaceId': 'AMS', 'parent': {'flightPlaceId': 'AMS', 'name': 'Amsterdam', 'type': 'City'}, 'name': 'Amsterdam', 'type': 'Airport'}, 'destination': {'flightPlaceId': 'BER', 'parent': {'flightPlaceId': 'BER', 'name': 'Berlin', 'type': 'City'}, 'name': 'Berlin Brandenburg', 'type': 'Airport'}, 'departure': '2023-06-06T10:15:00', 'arrival': '2023-06-06T11:30:00', 'durationInMinutes': 75, 'flightNumber': '1823', 'marketingCarrier': {'id': -32132, 'name': 'KLM', 'alternate_di': 'KL', 'allianceId': -31998}, 'operatingCarrier': {'id': -32132, 'name': 'KLM', 'alternate_di': 'KL', 'allianceId': -31998}}]}], 'pricing_options': [{'agents': [{'id': 'ctuk', 'name': 'Trip.com', 'is_carrier': False, 'update_status': 'pending', 'optimised_for_mobile': True, 'live_update_allowed': True, 'rating_status': 'available', 'rating': 3.84, 'feedback_count': 74754, 'rating_breakdown': {'reliable_prices': 3.777468, 'clear_extra_fees': 4.379816, 'customer_service': 4.993568, 'ease_of_booking': 4.205436, 'other': 2.992844}}], 'price': {'amount': 141.55, 'update_status': 'pending', 'last_updated': '2023-05-08T17:18:51', 'quote_age': 143}, 'url': 'https://www.skyscanner.net/transport_deeplink/4.0/UK/en-GB/EUR/ctuk/1/9451.9828.2023-06-06/air/trava/flights?itinerary=flight%7C-32132%7C1823%7C9451%7C2023-06-06T10%3A15%7C9828%7C2023-06-06T11%3A30%7C75%7C-%7C-%7C-&carriers=-32132&operators=-32132&passengers=1&channel=website&cabin_class=economy&ticket_price=141.55&is_npt=false&is_multipart=false&client_id=skyscanner_website&q_sources=JACQUARD&commercial_filters=false&q_datetime_utc=2023-05-08T17%3A18%3A51&pqid=true'}], 'deeplink': 'https://www.skyscanner.net/transport/flights/ams/ber/230606/config/9451-2306061015--32132-0-9828-2306061130?adults=1&adultsv2=1&cabinclass=economy&children=0&childrenv2=&destinationentityid=27547053&originentityid=27536561&inboundaltsenabled=false&infants=0&outboundaltsenabled=false&preferdirects=false&ref=home&rtn=0'}, {'id': '9451-2306060655--32132-0-9828-2306060820', 'legs': [{'id': '9451-2306060655--32132-0-9828-2306060820', 'origin': {'id': 9451, 'name': 'Amsterdam', 'displayCode': 'AMS'}, 'destination': {'id': 9828, 'name': 'Berlin Brandenburg', 'displayCode': 'BER'}, 'durationInMinutes': 85, 'stopCount': 0, 'isSmallestStops': True, 'departure': '2023-06-06T06:55:00', 'arrival': '2023-06-06T08:20:00', 'timeDeltaInDays': 0, 'carriers': {'marketing': [{'id': -32132, 'name': 'KLM'}], 'operationType': 'fully_operated'}, 'segments': [{'id': '9451-9828-2306060655-2306060820--32132', 'origin': {'flightPlaceId': 'AMS', 'parent': {'flightPlaceId': 'AMS', 'name': 'Amsterdam', 'type': 'City'}, 'name': 'Amsterdam', 'type': 'Airport'}, 'destination': {'flightPlaceId': 'BER', 'parent': {'flightPlaceId': 'BER', 'name': 'Berlin', 'type': 'City'}, 'name': 'Berlin Brandenburg', 'type': 'Airport'}, 'departure': '2023-06-06T06:55:00', 'arrival': '2023-06-06T08:20:00', 'durationInMinutes': 85, 'flightNumber': '1821', 'marketingCarrier': {'id': -32132, 'name': 'KLM', 'alternate_di': 'KL', 'allianceId': -31998}, 'operatingCarrier': {'id': -32131, 'name': 'KLM Cityhopper', 'alternate_di': 'WA'}}]}], 'pricing_options': [{'agents': [{'id': 'ctuk', 'name': 'Trip.com', 'is_carrier': False, 'update_status': 'pending', 'optimised_for_mobile': True, 'live_update_allowed': True, 'rating_status': 'available', 'rating': 3.84, 'feedback_count': 74754, 'rating_breakdown': {'reliable_prices': 3.777468, 'clear_extra_fees': 4.379816, 'customer_service': 4.993568, 'ease_of_booking': 4.205436, 'other': 2.992844}}], 'price': {'amount': 140.13, 'update_status': 'pending', 'last_updated': '2023-05-08T17:18:51', 'quote_age': 143}, 'url': 'https://www.skyscanner.net/transport_deeplink/4.0/UK/en-GB/EUR/ctuk/1/9451.9828.2023-06-06/air/trava/flights?itinerary=flight%7C-32132%7C1821%7C9451%7C2023-06-06T06%3A55%7C9828%7C2023-06-06T08%3A20%7C85%7C-%7C-%7C-&carriers=-32132&operators=-32131&passengers=1&channel=website&cabin_class=economy&ticket_price=140.13&is_npt=false&is_multipart=false&client_id=skyscanner_website&q_sources=JACQUARD&commercial_filters=false&q_datetime_utc=2023-05-08T17%3A18%3A51&pqid=true'}], 'deeplink': 'https://www.skyscanner.net/transport/flights/ams/ber/230606/config/9451-2306060655--32132-0-9828-2306060820?adults=1&adultsv2=1&cabinclass=economy&children=0&childrenv2=&destinationentityid=27547053&originentityid=27536561&inboundaltsenabled=false&infants=0&outboundaltsenabled=false&preferdirects=false&ref=home&rtn=0'}, {'id': '9451-2306060905--32356-0-9828-2306061030', 'legs': [{'id': '9451-2306060905--32356-0-9828-2306061030', 'origin': {'id': 9451, 'name': 'Amsterdam', 'displayCode': 'AMS'}, 'destination': {'id': 9828, 'name': 'Berlin Brandenburg', 'displayCode': 'BER'}, 'durationInMinutes': 85, 'stopCount': 0, 'isSmallestStops': True, 'departure': '2023-06-06T09:05:00', 'arrival': '2023-06-06T10:30:00', 'timeDeltaInDays': 0, 'carriers': {'marketing': [{'id': -32356, 'name': 'easyJet'}], 'operationType': 'fully_operated'}, 'segments': [{'id': '9451-9828-2306060905-2306061030--32356', 'origin': {'flightPlaceId': 'AMS', 'parent': {'flightPlaceId': 'AMS', 'name': 'Amsterdam', 'type': 'City'}, 'name': 'Amsterdam', 'type': 'Airport'}, 'destination': {'flightPlaceId': 'BER', 'parent': {'flightPlaceId': 'BER', 'name': 'Berlin', 'type': 'City'}, 'name': 'Berlin Brandenburg', 'type': 'Airport'}, 'departure': '2023-06-06T09:05:00', 'arrival': '2023-06-06T10:30:00', 'durationInMinutes': 85, 'flightNumber': '5282', 'marketingCarrier': {'id': -32356, 'name': 'easyJet', 'alternate_di': 'EZ'}, 'operatingCarrier': {'id': -32356, 'name': 'easyJet', 'alternate_di': 'EZ'}}]}], 'pricing_options': [{'agents': [{'id': 'easy', 'name': 'easyJet', 'is_carrier': True, 'update_status': 'current', 'optimised_for_mobile': True, 'live_update_allowed': True, 'rating_status': 'available', 'rating': 4.43, 'feedback_count': 30005, 'rating_breakdown': {'reliable_prices': 4.792372, 'clear_extra_fees': 4.642032, 'customer_service': 5, 'ease_of_booking': 4.615752, 'other': 3.671684}}], 'price': {'amount': 57.42, 'update_status': 'current', 'last_updated': '2023-05-08T19:41:34', 'quote_age': 0}, 'url': 'https://www.skyscanner.net/transport_deeplink/4.0/UK/en-GB/EUR/easy/1/9451.9828.2023-06-06/air/airli/flights?itinerary=flight%7C-32356%7C5282%7C9451%7C2023-06-06T09%3A05%7C9828%7C2023-06-06T10%3A30%7C85%7C-%7C-%7C-&carriers=-32356&operators=-32356&passengers=1&channel=website&cabin_class=economy&ticket_price=57.42&is_npt=false&is_multipart=false&client_id=skyscanner_website&q_sources=JACQUARD&commercial_filters=false&q_datetime_utc=2023-05-08T19%3A41%3A34&pqid=false'}], 'deeplink': 'https://www.skyscanner.net/transport/flights/ams/ber/230606/config/9451-2306060905--32356-0-9828-2306061030?adults=1&adultsv2=1&cabinclass=economy&children=0&childrenv2=&destinationentityid=27547053&originentityid=27536561&inboundaltsenabled=false&infants=0&outboundaltsenabled=false&preferdirects=false&ref=home&rtn=0'}, {'id': '9451-2306061850--32132-0-9828-2306062005', 'legs': [{'id': '9451-2306061850--32132-0-9828-2306062005', 'origin': {'id': 9451, 'name': 'Amsterdam', 'displayCode': 'AMS'}, 'destination': {'id': 9828, 'name': 'Berlin Brandenburg', 'displayCode': 'BER'}, 'durationInMinutes': 75, 'stopCount': 0, 'isSmallestStops': True, 'departure': '2023-06-06T18:50:00', 'arrival': '2023-06-06T20:05:00', 'timeDeltaInDays': 0, 'carriers': {'marketing': [{'id': -32132, 'name': 'KLM'}], 'operationType': 'fully_operated'}, 'segments': [{'id': '9451-9828-2306061850-2306062005--32132', 'origin': {'flightPlaceId': 'AMS', 'parent': {'flightPlaceId': 'AMS', 'name': 'Amsterdam', 'type': 'City'}, 'name': 'Amsterdam', 'type': 'Airport'}, 'destination': {'flightPlaceId': 'BER', 'parent': {'flightPlaceId': 'BER', 'name': 'Berlin', 'type': 'City'}, 'name': 'Berlin Brandenburg', 'type': 'Airport'}, 'departure': '2023-06-06T18:50:00', 'arrival': '2023-06-06T20:05:00', 'durationInMinutes': 75, 'flightNumber': '1833', 'marketingCarrier': {'id': -32132, 'name': 'KLM', 'alternate_di': 'KL', 'allianceId': -31998}, 'operatingCarrier': {'id': -32131, 'name': 'KLM Cityhopper', 'alternate_di': 'WA'}}]}], 'pricing_options': [{'agents': [{'id': 'ctuk', 'name': 'Trip.com', 'is_carrier': False, 'update_status': 'pending', 'optimised_for_mobile': True, 'live_update_allowed': True, 'rating_status': 'available', 'rating': 3.84, 'feedback_count': 74754, 'rating_breakdown': {'reliable_prices': 3.777468, 'clear_extra_fees': 4.379816, 'customer_service': 4.993568, 'ease_of_booking': 4.205436, 'other': 2.992844}}], 'price': {'amount': 125.55, 'update_status': 'pending', 'last_updated': '2023-05-08T17:18:51', 'quote_age': 143}, 'url': 'https://www.skyscanner.net/transport_deeplink/4.0/UK/en-GB/EUR/ctuk/1/9451.9828.2023-06-06/air/trava/flights?itinerary=flight%7C-32132%7C1833%7C9451%7C2023-06-06T18%3A50%7C9828%7C2023-06-06T20%3A05%7C75%7C-%7C-%7C-&carriers=-32132&operators=-32131&passengers=1&channel=website&cabin_class=economy&ticket_price=125.55&is_npt=false&is_multipart=false&client_id=skyscanner_website&q_sources=JACQUARD&commercial_filters=false&q_datetime_utc=2023-05-08T17%3A18%3A51&pqid=true'}], 'deeplink': 'https://www.skyscanner.net/transport/flights/ams/ber/230606/config/9451-2306061850--32132-0-9828-2306062005?adults=1&adultsv2=1&cabinclass=economy&children=0&childrenv2=&destinationentityid=27547053&originentityid=27536561&inboundaltsenabled=false&infants=0&outboundaltsenabled=false&preferdirects=false&ref=home&rtn=0'}, {'id': '9451-2306061230--32132-0-9828-2306061345', 'legs': [{'id': '9451-2306061230--32132-0-9828-2306061345', 'origin': {'id': 9451, 'name': 'Amsterdam', 'displayCode': 'AMS'}, 'destination': {'id': 9828, 'name': 'Berlin Brandenburg', 'displayCode': 'BER'}, 'durationInMinutes': 75, 'stopCount': 0, 'isSmallestStops': True, 'departure': '2023-06-06T12:30:00', 'arrival': '2023-06-06T13:45:00', 'timeDeltaInDays': 0, 'carriers': {'marketing': [{'id': -32132, 'name': 'KLM'}], 'operationType': 'fully_operated'}, 'segments': [{'id': '9451-9828-2306061230-2306061345--32132', 'origin': {'flightPlaceId': 'AMS', 'parent': {'flightPlaceId': 'AMS', 'name': 'Amsterdam', 'type': 'City'}, 'name': 'Amsterdam', 'type': 'Airport'}, 'destination': {'flightPlaceId': 'BER', 'parent': {'flightPlaceId': 'BER', 'name': 'Berlin', 'type': 'City'}, 'name': 'Berlin Brandenburg', 'type': 'Airport'}, 'departure': '2023-06-06T12:30:00', 'arrival': '2023-06-06T13:45:00', 'durationInMinutes': 75, 'flightNumber': '1825', 'marketingCarrier': {'id': -32132, 'name': 'KLM', 'alternate_di': 'KL', 'allianceId': -31998}, 'operatingCarrier': {'id': -32132, 'name': 'KLM', 'alternate_di': 'KL', 'allianceId': -31998}}]}], 'pricing_options': [{'agents': [{'id': 'ctuk', 'name': 'Trip.com', 'is_carrier': False, 'update_status': 'pending', 'optimised_for_mobile': True, 'live_update_allowed': True, 'rating_status': 'available', 'rating': 3.84, 'feedback_count': 74754, 'rating_breakdown': {'reliable_prices': 3.777468, 'clear_extra_fees': 4.379816, 'customer_service': 4.993568, 'ease_of_booking': 4.205436, 'other': 2.992844}}], 'price': {'amount': 141.55, 'update_status': 'pending', 'last_updated': '2023-05-08T17:18:51', 'quote_age': 143}, 'url': 'https://www.skyscanner.net/transport_deeplink/4.0/UK/en-GB/EUR/ctuk/1/9451.9828.2023-06-06/air/trava/flights?itinerary=flight%7C-32132%7C1825%7C9451%7C2023-06-06T12%3A30%7C9828%7C2023-06-06T13%3A45%7C75%7C-%7C-%7C-&carriers=-32132&operators=-32132&passengers=1&channel=website&cabin_class=economy&ticket_price=141.55&is_npt=false&is_multipart=false&client_id=skyscanner_website&q_sources=JACQUARD&commercial_filters=false&q_datetime_utc=2023-05-08T17%3A18%3A51&pqid=true'}], 'deeplink': 'https://www.skyscanner.net/transport/flights/ams/ber/230606/config/9451-2306061230--32132-0-9828-2306061345?adults=1&adultsv2=1&cabinclass=economy&children=0&childrenv2=&destinationentityid=27547053&originentityid=27536561&inboundaltsenabled=false&infants=0&outboundaltsenabled=false&preferdirects=false&ref=home&rtn=0'}, {'id': '9451-2306060835--32132-0-9828-2306061005', 'legs': [{'id': '9451-2306060835--32132-0-9828-2306061005', 'origin': {'id': 9451, 'name': 'Amsterdam', 'displayCode': 'AMS'}, 'destination': {'id': 9828, 'name': 'Berlin Brandenburg', 'displayCode': 'BER'}, 'durationInMinutes': 90, 'stopCount': 0, 'isSmallestStops': True, 'departure': '2023-06-06T08:35:00', 'arrival': '2023-06-06T10:05:00', 'timeDeltaInDays': 0, 'carriers': {'marketing': [{'id': -32132, 'name': 'KLM'}], 'operationType': 'fully_operated'}, 'segments': [{'id': '9451-9828-2306060835-2306061005--32132', 'origin': {'flightPlaceId': 'AMS', 'parent': {'flightPlaceId': 'AMS', 'name': 'Amsterdam', 'type': 'City'}, 'name': 'Amsterdam', 'type': 'Airport'}, 'destination': {'flightPlaceId': 'BER', 'parent': {'flightPlaceId': 'BER', 'name': 'Berlin', 'type': 'City'}, 'name': 'Berlin Brandenburg', 'type': 'Airport'}, 'departure': '2023-06-06T08:35:00', 'arrival': '2023-06-06T10:05:00', 'durationInMinutes': 90, 'flightNumber': '1819', 'marketingCarrier': {'id': -32132, 'name': 'KLM', 'alternate_di': 'KL', 'allianceId': -31998}, 'operatingCarrier': {'id': -32131, 'name': 'KLM Cityhopper', 'alternate_di': 'WA'}}]}], 'pricing_options': [{'agents': [{'id': 'ctuk', 'name': 'Trip.com', 'is_carrier': False, 'update_status': 'pending', 'optimised_for_mobile': True, 'live_update_allowed': True, 'rating_status': 'available', 'rating': 3.84, 'feedback_count': 74754, 'rating_breakdown': {'reliable_prices': 3.777468, 'clear_extra_fees': 4.379816, 'customer_service': 4.993568, 'ease_of_booking': 4.205436, 'other': 2.992844}}], 'price': {'amount': 161.55, 'update_status': 'pending', 'last_updated': '2023-05-08T17:18:51', 'quote_age': 143}, 'url': 'https://www.skyscanner.net/transport_deeplink/4.0/UK/en-GB/EUR/ctuk/1/9451.9828.2023-06-06/air/trava/flights?itinerary=flight%7C-32132%7C1819%7C9451%7C2023-06-06T08%3A35%7C9828%7C2023-06-06T10%3A05%7C90%7C-%7C-%7C-&carriers=-32132&operators=-32131&passengers=1&channel=website&cabin_class=economy&ticket_price=161.55&is_npt=false&is_multipart=false&client_id=skyscanner_website&q_sources=JACQUARD&commercial_filters=false&q_datetime_utc=2023-05-08T17%3A18%3A51&pqid=true'}], 'deeplink': 'https://www.skyscanner.net/transport/flights/ams/ber/230606/config/9451-2306060835--32132-0-9828-2306061005?adults=1&adultsv2=1&cabinclass=economy&children=0&childrenv2=&destinationentityid=27547053&originentityid=27536561&inboundaltsenabled=false&infants=0&outboundaltsenabled=false&preferdirects=false&ref=home&rtn=0'}, {'id': '9451-2306061255--32356-0-9828-2306061420', 'legs': [{'id': '9451-2306061255--32356-0-9828-2306061420', 'origin': {'id': 9451, 'name': 'Amsterdam', 'displayCode': 'AMS'}, 'destination': {'id': 9828, 'name': 'Berlin Brandenburg', 'displayCode': 'BER'}, 'durationInMinutes': 85, 'stopCount': 0, 'isSmallestStops': True, 'departure': '2023-06-06T12:55:00', 'arrival': '2023-06-06T14:20:00', 'timeDeltaInDays': 0, 'carriers': {'marketing': [{'id': -32356, 'name': 'easyJet'}], 'operationType': 'fully_operated'}, 'segments': [{'id': '9451-9828-2306061255-2306061420--32356', 'origin': {'flightPlaceId': 'AMS', 'parent': {'flightPlaceId': 'AMS', 'name': 'Amsterdam', 'type': 'City'}, 'name': 'Amsterdam', 'type': 'Airport'}, 'destination': {'flightPlaceId': 'BER', 'parent': {'flightPlaceId': 'BER', 'name': 'Berlin', 'type': 'City'}, 'name': 'Berlin Brandenburg', 'type': 'Airport'}, 'departure': '2023-06-06T12:55:00', 'arrival': '2023-06-06T14:20:00', 'durationInMinutes': 85, 'flightNumber': '7945', 'marketingCarrier': {'id': -32356, 'name': 'easyJet', 'alternate_di': 'EZ'}, 'operatingCarrier': {'id': -32356, 'name': 'easyJet', 'alternate_di': 'EZ'}}]}], 'pricing_options': [{'agents': [{'id': 'easy', 'name': 'easyJet', 'is_carrier': True, 'update_status': 'current', 'optimised_for_mobile': True, 'live_update_allowed': True, 'rating_status': 'available', 'rating': 4.43, 'feedback_count': 30005, 'rating_breakdown': {'reliable_prices': 4.792372, 'clear_extra_fees': 4.642032, 'customer_service': 5, 'ease_of_booking': 4.615752, 'other': 3.671684}}], 'price': {'amount': 61.42, 'update_status': 'current', 'last_updated': '2023-05-08T19:41:34', 'quote_age': 0}, 'url': 'https://www.skyscanner.net/transport_deeplink/4.0/UK/en-GB/EUR/easy/1/9451.9828.2023-06-06/air/airli/flights?itinerary=flight%7C-32356%7C7945%7C9451%7C2023-06-06T12%3A55%7C9828%7C2023-06-06T14%3A20%7C85%7C-%7C-%7C-&carriers=-32356&operators=-32356&passengers=1&channel=website&cabin_class=economy&ticket_price=61.42&is_npt=false&is_multipart=false&client_id=skyscanner_website&q_sources=JACQUARD&commercial_filters=false&q_datetime_utc=2023-05-08T19%3A41%3A34&pqid=false'}], 'deeplink': 'https://www.skyscanner.net/transport/flights/ams/ber/230606/config/9451-2306061255--32356-0-9828-2306061420?adults=1&adultsv2=1&cabinclass=economy&children=0&childrenv2=&destinationentityid=27547053&originentityid=27536561&inboundaltsenabled=false&infants=0&outboundaltsenabled=false&preferdirects=false&ref=home&rtn=0'}, {'id': '9451-2306062045--32132-0-9828-2306062200', 'legs': [{'id': '9451-2306062045--32132-0-9828-2306062200', 'origin': {'id': 9451, 'name': 'Amsterdam', 'displayCode': 'AMS'}, 'destination': {'id': 9828, 'name': 'Berlin Brandenburg', 'displayCode': 'BER'}, 'durationInMinutes': 75, 'stopCount': 0, 'isSmallestStops': True, 'departure': '2023-06-06T20:45:00', 'arrival': '2023-06-06T22:00:00', 'timeDeltaInDays': 0, 'carriers': {'marketing': [{'id': -32132, 'name': 'KLM'}], 'operationType': 'fully_operated'}, 'segments': [{'id': '9451-9828-2306062045-2306062200--32132', 'origin': {'flightPlaceId': 'AMS', 'parent': {'flightPlaceId': 'AMS', 'name': 'Amsterdam', 'type': 'City'}, 'name': 'Amsterdam', 'type': 'Airport'}, 'destination': {'flightPlaceId': 'BER', 'parent': {'flightPlaceId': 'BER', 'name': 'Berlin', 'type': 'City'}, 'name': 'Berlin Brandenburg', 'type': 'Airport'}, 'departure': '2023-06-06T20:45:00', 'arrival': '2023-06-06T22:00:00', 'durationInMinutes': 75, 'flightNumber': '1835', 'marketingCarrier': {'id': -32132, 'name': 'KLM', 'alternate_di': 'KL', 'allianceId': -31998}, 'operatingCarrier': {'id': -32132, 'name': 'KLM', 'alternate_di': 'KL', 'allianceId': -31998}}]}], 'pricing_options': [{'agents': [{'id': 'ctuk', 'name': 'Trip.com', 'is_carrier': False, 'update_status': 'pending', 'optimised_for_mobile': True, 'live_update_allowed': True, 'rating_status': 'available', 'rating': 3.84, 'feedback_count': 74754, 'rating_breakdown': {'reliable_prices': 3.777468, 'clear_extra_fees': 4.379816, 'customer_service': 4.993568, 'ease_of_booking': 4.205436, 'other': 2.992844}}], 'price': {'amount': 125.55, 'update_status': 'pending', 'last_updated': '2023-05-08T17:18:51', 'quote_age': 143}, 'url': 'https://www.skyscanner.net/transport_deeplink/4.0/UK/en-GB/EUR/ctuk/1/9451.9828.2023-06-06/air/trava/flights?itinerary=flight%7C-32132%7C1835%7C9451%7C2023-06-06T20%3A45%7C9828%7C2023-06-06T22%3A00%7C75%7C-%7C-%7C-&carriers=-32132&operators=-32132&passengers=1&channel=website&cabin_class=economy&ticket_price=125.55&is_npt=false&is_multipart=false&client_id=skyscanner_website&q_sources=JACQUARD&commercial_filters=false&q_datetime_utc=2023-05-08T17%3A18%3A51&pqid=true'}], 'deeplink': 'https://www.skyscanner.net/transport/flights/ams/ber/230606/config/9451-2306062045--32132-0-9828-2306062200?adults=1&adultsv2=1&cabinclass=economy&children=0&childrenv2=&destinationentityid=27547053&originentityid=27536561&inboundaltsenabled=false&infants=0&outboundaltsenabled=false&preferdirects=false&ref=home&rtn=0'}]}, 'context': {'status': 'incomplete', 'sessionId': 'aee91bfe-6acb-479d-8a0a-80ac9be5d9b6'}}\n"
     ]
    }
   ],
   "source": [
    "import requests\n",
    "\n",
    "url = \"https://skyscanner44.p.rapidapi.com/search-extended\"\n",
    "\n",
    "querystring = {\"adults\":\"1\",\"origin\":find_airport_code(origen),\"destination\":find_airport_code(destino),\"departureDate\":dia}\n",
    "\n",
    "headers = {\n",
    "    \"X-RapidAPI-Key\": \"3a6f48f68emshd065bc6c8787aadp19d83cjsn25cdf003cbdc\",\n",
    "    \"X-RapidAPI-Host\": \"skyscanner44.p.rapidapi.com\"\n",
    "}\n",
    "\n",
    "response = requests.get(url, headers=headers, params=querystring)\n",
    "\n",
    "print(response.json())"
   ]
  },
  {
   "cell_type": "code",
   "execution_count": 37,
   "id": "8f9c7685",
   "metadata": {},
   "outputs": [
    {
     "data": {
      "text/plain": [
       "{'amount': 125.55,\n",
       " 'update_status': 'pending',\n",
       " 'last_updated': '2023-05-08T17:18:51',\n",
       " 'quote_age': 143}"
      ]
     },
     "execution_count": 37,
     "metadata": {},
     "output_type": "execute_result"
    }
   ],
   "source": [
    "response.json()['itineraries']['results'][0]['pricing_options'][0]['price']"
   ]
  },
  {
   "cell_type": "code",
   "execution_count": 46,
   "id": "b193e11f",
   "metadata": {},
   "outputs": [
    {
     "name": "stdout",
     "output_type": "stream",
     "text": [
      "0 {'amount': 125.55, 'update_status': 'pending', 'last_updated': '2023-05-08T17:18:51', 'quote_age': 143}\n",
      "1 {'amount': 161.55, 'update_status': 'pending', 'last_updated': '2023-05-08T17:18:51', 'quote_age': 143}\n",
      "2 {'amount': 141.55, 'update_status': 'pending', 'last_updated': '2023-05-08T17:18:51', 'quote_age': 143}\n",
      "3 {'amount': 140.13, 'update_status': 'pending', 'last_updated': '2023-05-08T17:18:51', 'quote_age': 143}\n",
      "4 {'amount': 57.42, 'update_status': 'current', 'last_updated': '2023-05-08T19:41:34', 'quote_age': 0}\n",
      "5 {'amount': 125.55, 'update_status': 'pending', 'last_updated': '2023-05-08T17:18:51', 'quote_age': 143}\n",
      "6 {'amount': 141.55, 'update_status': 'pending', 'last_updated': '2023-05-08T17:18:51', 'quote_age': 143}\n",
      "7 {'amount': 161.55, 'update_status': 'pending', 'last_updated': '2023-05-08T17:18:51', 'quote_age': 143}\n",
      "8 {'amount': 61.42, 'update_status': 'current', 'last_updated': '2023-05-08T19:41:34', 'quote_age': 0}\n",
      "9 {'amount': 125.55, 'update_status': 'pending', 'last_updated': '2023-05-08T17:18:51', 'quote_age': 143}\n"
     ]
    }
   ],
   "source": [
    "for i in range(10):\n",
    "    print(i,response.json()['itineraries']['results'][i]['pricing_options'][0]['price'])"
   ]
  },
  {
   "cell_type": "code",
   "execution_count": null,
   "id": "47a1fb2b",
   "metadata": {},
   "outputs": [],
   "source": []
  }
 ],
 "metadata": {
  "kernelspec": {
   "display_name": "Python 3 (ipykernel)",
   "language": "python",
   "name": "python3"
  },
  "language_info": {
   "codemirror_mode": {
    "name": "ipython",
    "version": 3
   },
   "file_extension": ".py",
   "mimetype": "text/x-python",
   "name": "python",
   "nbconvert_exporter": "python",
   "pygments_lexer": "ipython3",
   "version": "3.11.1"
  }
 },
 "nbformat": 4,
 "nbformat_minor": 5
}
